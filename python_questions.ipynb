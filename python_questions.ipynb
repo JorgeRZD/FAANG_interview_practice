{
 "cells": [
  {
   "cell_type": "markdown",
   "metadata": {},
   "source": [
    "## Fizz Buzz Sum\n",
    "\n",
    "Write a function `fizz_buzz_sum` to find the sum of all multiples of 3 or 5 below a target value.\n",
    "\n",
    "For example, if the target value was 10, the multiples of 3 or 5 below 10 are 3, 5, 6, and 9.\n",
    "\n",
    "Because 3+5+6+9=23, our function would return 23."
   ]
  },
  {
   "cell_type": "code",
   "execution_count": 50,
   "metadata": {},
   "outputs": [],
   "source": [
    "def fizz_buzz_sum(target):\n",
    "    return sum([i for i in range(1,target) if i%3==0 or i%5==0])"
   ]
  },
  {
   "cell_type": "code",
   "execution_count": 53,
   "metadata": {},
   "outputs": [
    {
     "data": {
      "text/plain": [
       "57918"
      ]
     },
     "execution_count": 53,
     "metadata": {},
     "output_type": "execute_result"
    }
   ],
   "source": [
    "fizz_buzz_sum(500)"
   ]
  },
  {
   "cell_type": "markdown",
   "metadata": {},
   "source": [
    "## Roman to numeral\n",
    "\n",
    "Given a valid Roman numeral, convert it to an integer."
   ]
  },
  {
   "cell_type": "code",
   "execution_count": 113,
   "metadata": {},
   "outputs": [],
   "source": [
    "def RomanToInteger(target:str) -> int:\n",
    "    conv_dict = {\n",
    "    'I': 1,\n",
    "    'IV': 4,\n",
    "    'V': 5,\n",
    "    'IX': 9,\n",
    "    'X': 10,\n",
    "    'XL': 40,\n",
    "    'L': 50,\n",
    "    'XC': 90,\n",
    "    'C': 100,\n",
    "    'CD': 400,\n",
    "    'D': 500,\n",
    "    'CM': 900,\n",
    "    'M': 1000\n",
    "    }\n",
    "    var_list = list(target)\n",
    "    new_list = [] \n",
    "    while len(var_list)>0:\n",
    "        try:\n",
    "            new_list.append(conv_dict[var_list[-2]+var_list[-1]])\n",
    "            del var_list[-2:]\n",
    "        except:\n",
    "            new_list.append(conv_dict[var_list[-1]])\n",
    "            del var_list[-1:]\n",
    "    else:\n",
    "        return(sum(new_list))"
   ]
  },
  {
   "cell_type": "code",
   "execution_count": 115,
   "metadata": {},
   "outputs": [
    {
     "data": {
      "text/plain": [
       "28"
      ]
     },
     "execution_count": 115,
     "metadata": {},
     "output_type": "execute_result"
    }
   ],
   "source": [
    "RomanToInteger('XXVIII')"
   ]
  },
  {
   "cell_type": "markdown",
   "metadata": {},
   "source": [
    "## Counting letters in numbers\n",
    "If the numbers from 1 to N are written out in words (e.g., \"one\", \"two\", \"three\", \"four\", etc.), how many letters are used in total when writing all numbers between 1 and N (inclusive)?\n",
    "While writing the words, follow these rules:\n",
    "- Do not count spaces or hyphens.\n",
    "- British usage applies (we're fancy like that): for numbers over 100, include \"and\" (e.g., \"one hundred and fifteen\")."
   ]
  },
  {
   "cell_type": "code",
   "execution_count": 134,
   "metadata": {},
   "outputs": [],
   "source": [
    "def total_letters(number_list):\n",
    "    char_counter = 0\n",
    "    for char in number_list:\n",
    "        char_counter += (len(list(char.replace(\" \", \"\"))))\n",
    "    return(char_counter)"
   ]
  },
  {
   "cell_type": "code",
   "execution_count": 150,
   "metadata": {},
   "outputs": [],
   "source": [
    "letters_in_nums = {\n",
    "    1:3,\n",
    "    2:3,\n",
    "    3:5,\n",
    "    4:4,\n",
    "    5:4,\n",
    "    6:3,\n",
    "    7:5,\n",
    "    8:5,\n",
    "    9:4,\n",
    "    10:3,\n",
    "    11:6,\n",
    "    12:6,\n",
    "    13:8,\n",
    "    14:8,\n",
    "    15:7,\n",
    "    20:6,\n",
    "    30:6,\n",
    "    40:5,\n",
    "    50:5,\n",
    "    100:7,\n",
    "    1000:8\n",
    "}"
   ]
  },
  {
   "cell_type": "code",
   "execution_count": null,
   "metadata": {},
   "outputs": [],
   "source": [
    "def inclusive_range(start, end):\n",
    "    return(range(start, end+1))\n",
    "\n",
    "test_list = [i for i in inclusive_range(1,10)]\n",
    "print(test_list)\n",
    "\n",
    "counting_list = [letters_in_nums[i] for i in test_list]\n",
    "print(sum(counting_list))"
   ]
  },
  {
   "cell_type": "code",
   "execution_count": 160,
   "metadata": {},
   "outputs": [
    {
     "name": "stdout",
     "output_type": "stream",
     "text": [
      "6\n"
     ]
    }
   ],
   "source": [
    "number_test=20\n",
    "\n",
    "if number_test>15 and number_test<20:\n",
    "    root=number_test%10\n",
    "    print(root)\n",
    "    print(letters_in_nums[root]+4)\n",
    "elif number_test == 20:\n",
    "    print(letters_in_nums[20])\n",
    "elif number_test > 20 and number_test "
   ]
  },
  {
   "cell_type": "code",
   "execution_count": 153,
   "metadata": {},
   "outputs": [
    {
     "data": {
      "text/plain": [
       "8"
      ]
     },
     "execution_count": 153,
     "metadata": {},
     "output_type": "execute_result"
    }
   ],
   "source": [
    "number_list = ['thirteen']\n",
    "total_letters(number_list)"
   ]
  },
  {
   "cell_type": "markdown",
   "metadata": {},
   "source": [
    "## Triangular sum\n",
    "\n",
    "You are given an integer array `nums`, where each element in it is a single digit (0-9).\n",
    "\n",
    "The triangular sum of `nums` is the value of the only element present in `nums` after the following process terminates:\n",
    "\n",
    "Let `nums` comprise of n elements. If n == 1, end the process. Otherwise, create a new integer array `newNums` of length n - 1.\n",
    "For each index i, assign the value of `newNums[i]` as `(nums[i] + nums[i+1])` % 10, where % denotes the modulo operator.\n",
    "Replace the array nums with newNums.\n",
    "Repeat the entire process starting from step 1."
   ]
  },
  {
   "cell_type": "code",
   "execution_count": null,
   "metadata": {},
   "outputs": [],
   "source": [
    "nums = [9,7,5,3]\n",
    "newNums = []\n",
    "\n",
    "while len(nums) > 1:\n",
    "    for i, j in enumerate(nums):\n",
    "        #print((i,j))\n",
    "        if i+1 < len(nums):\n",
    "            newNums.append((nums[i] + nums[i+1])%10)\n",
    "        else:\n",
    "            nums = newNums\n",
    "            newNums = []\n",
    "            #print(nums)\n",
    "            #print(newNums)\n",
    "else:\n",
    "    print(nums[0])\n",
    "\n"
   ]
  },
  {
   "cell_type": "code",
   "execution_count": 6,
   "metadata": {},
   "outputs": [],
   "source": [
    "def triangular_sum(nums):\n",
    "    newNums = []\n",
    "\n",
    "    while len(nums) > 1:\n",
    "        for i, j in enumerate(nums):\n",
    "            #print((i,j))\n",
    "            if i+1 < len(nums):\n",
    "                newNums.append((nums[i] + nums[i+1])%10)\n",
    "            else:\n",
    "                nums = newNums\n",
    "                newNums = []\n",
    "                print(nums)\n",
    "                #print(newNums)\n",
    "    else:\n",
    "        return(nums[0])"
   ]
  },
  {
   "cell_type": "code",
   "execution_count": 7,
   "metadata": {},
   "outputs": [
    {
     "name": "stdout",
     "output_type": "stream",
     "text": [
      "[6, 2, 8, 5, 2]\n",
      "[8, 0, 3, 7]\n",
      "[8, 3, 0]\n",
      "[1, 3]\n",
      "[4]\n"
     ]
    },
    {
     "data": {
      "text/plain": [
       "4"
      ]
     },
     "execution_count": 7,
     "metadata": {},
     "output_type": "execute_result"
    }
   ],
   "source": [
    "triangular_sum([9,7,5,3,2,0])"
   ]
  },
  {
   "cell_type": "markdown",
   "metadata": {},
   "source": [
    "## Looping Number\n",
    "\n",
    "Given an integer `n`, check if it is a looping number. A looping number has the following properties:\n",
    "\n",
    "1) It is repeatedly replaced by the sum of the squares of its digits.\n",
    "2) This process continues until:\n",
    "The number becomes 1, in which case it is not a looping number.\n",
    "The number starts repeating in a cycle that does not include 1, making it a looping number.\n",
    "Return `True` if `n` is a looping number, otherwise return `False`."
   ]
  },
  {
   "cell_type": "code",
   "execution_count": 59,
   "metadata": {},
   "outputs": [
    {
     "name": "stdout",
     "output_type": "stream",
     "text": [
      "42\n",
      "4\n",
      "0\n",
      "[4, 2, 1]\n"
     ]
    }
   ],
   "source": [
    "num = 421\n",
    "\n",
    "x = []\n",
    "\n",
    "x.append(num%10)\n",
    "y = num//10\n",
    "print(y)\n",
    "x.append(y%10)\n",
    "y = y//10\n",
    "print(y)\n",
    "x.append(y%10)\n",
    "y = y//10\n",
    "print(y)\n",
    "print(list(reversed(x)))\n"
   ]
  },
  {
   "cell_type": "code",
   "execution_count": null,
   "metadata": {},
   "outputs": [
    {
     "name": "stdout",
     "output_type": "stream",
     "text": [
      "[1, 9]\n",
      "[1, 81]\n",
      "82\n",
      "19\n",
      "82 19\n"
     ]
    }
   ],
   "source": [
    "num = 19\n",
    "iter_num = 0\n",
    "\n",
    "def digits(num):\n",
    "    iter_num = num\n",
    "    x = []\n",
    "    while num//10 > 0:\n",
    "        x.append(num%10)\n",
    "        num = num//10\n",
    "    else:\n",
    "        x.append(num)\n",
    "    dig_list = list(reversed(x))\n",
    "    print(dig_list)\n",
    "    sqr_dig_list = list(map(lambda x: x**2, dig_list))\n",
    "    print(sqr_dig_list)\n",
    "    num = sum(sqr_dig_list)\n",
    "    return num\n",
    "\n"
   ]
  },
  {
   "cell_type": "code",
   "execution_count": null,
   "metadata": {},
   "outputs": [
    {
     "name": "stdout",
     "output_type": "stream",
     "text": [
      "82\n",
      "[8, 2]\n",
      "[64, 4]\n",
      "68\n",
      "82\n",
      "82\n"
     ]
    }
   ],
   "source": [
    "while num != iter_num"
   ]
  },
  {
   "cell_type": "markdown",
   "metadata": {},
   "source": [
    "# Two sum problem\n",
    "\n",
    "Given an array of integers `nums` and an integer `target`, return the indices of the numbers such that they add up to `target`. Assume that each input has one solution and elements can only be used once."
   ]
  },
  {
   "cell_type": "code",
   "execution_count": 20,
   "metadata": {},
   "outputs": [],
   "source": [
    "def twosum(target, nums):\n",
    "    mydict = {}\n",
    "    for index, value in enumerate(nums):\n",
    "        complement = target - value\n",
    "        if complement in mydict:\n",
    "            comp_index = mydict[complement]\n",
    "            return (index, comp_index)\n",
    "        mydict[value] = index"
   ]
  },
  {
   "cell_type": "code",
   "execution_count": 22,
   "metadata": {},
   "outputs": [
    {
     "data": {
      "text/plain": [
       "(1, 0)"
      ]
     },
     "execution_count": 22,
     "metadata": {},
     "output_type": "execute_result"
    }
   ],
   "source": [
    "nums = [2, 7, 11, 15]\n",
    "target = 9\n",
    "\n",
    "twosum(target, nums)"
   ]
  }
 ],
 "metadata": {
  "kernelspec": {
   "display_name": "Python 3",
   "language": "python",
   "name": "python3"
  },
  "language_info": {
   "codemirror_mode": {
    "name": "ipython",
    "version": 3
   },
   "file_extension": ".py",
   "mimetype": "text/x-python",
   "name": "python",
   "nbconvert_exporter": "python",
   "pygments_lexer": "ipython3",
   "version": "3.13.1"
  }
 },
 "nbformat": 4,
 "nbformat_minor": 2
}
