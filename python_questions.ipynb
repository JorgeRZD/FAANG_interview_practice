{
 "cells": [
  {
   "cell_type": "markdown",
   "metadata": {},
   "source": [
    "## Fizz Buzz Sum\n",
    "\n",
    "Write a function `fizz_buzz_sum` to find the sum of all multiples of 3 or 5 below a target value.\n",
    "\n",
    "For example, if the target value was 10, the multiples of 3 or 5 below 10 are 3, 5, 6, and 9.\n",
    "\n",
    "Because 3+5+6+9=23, our function would return 23."
   ]
  },
  {
   "cell_type": "code",
   "execution_count": 50,
   "metadata": {},
   "outputs": [],
   "source": [
    "def fizz_buzz_sum(target):\n",
    "    return sum([i for i in range(1,target) if i%3==0 or i%5==0])"
   ]
  },
  {
   "cell_type": "code",
   "execution_count": 53,
   "metadata": {},
   "outputs": [
    {
     "data": {
      "text/plain": [
       "57918"
      ]
     },
     "execution_count": 53,
     "metadata": {},
     "output_type": "execute_result"
    }
   ],
   "source": [
    "fizz_buzz_sum(500)"
   ]
  },
  {
   "cell_type": "markdown",
   "metadata": {},
   "source": [
    "## Roman to numeral\n",
    "\n",
    "Given a valid Roman numeral, convert it to an integer."
   ]
  },
  {
   "cell_type": "code",
   "execution_count": 113,
   "metadata": {},
   "outputs": [],
   "source": [
    "def RomanToInteger(target:str) -> int:\n",
    "    conv_dict = {\n",
    "    'I': 1,\n",
    "    'IV': 4,\n",
    "    'V': 5,\n",
    "    'IX': 9,\n",
    "    'X': 10,\n",
    "    'XL': 40,\n",
    "    'L': 50,\n",
    "    'XC': 90,\n",
    "    'C': 100,\n",
    "    'CD': 400,\n",
    "    'D': 500,\n",
    "    'CM': 900,\n",
    "    'M': 1000\n",
    "    }\n",
    "    var_list = list(target)\n",
    "    new_list = [] \n",
    "    while len(var_list)>0:\n",
    "        try:\n",
    "            new_list.append(conv_dict[var_list[-2]+var_list[-1]])\n",
    "            del var_list[-2:]\n",
    "        except:\n",
    "            new_list.append(conv_dict[var_list[-1]])\n",
    "            del var_list[-1:]\n",
    "    else:\n",
    "        return(sum(new_list))"
   ]
  },
  {
   "cell_type": "code",
   "execution_count": 115,
   "metadata": {},
   "outputs": [
    {
     "data": {
      "text/plain": [
       "28"
      ]
     },
     "execution_count": 115,
     "metadata": {},
     "output_type": "execute_result"
    }
   ],
   "source": [
    "RomanToInteger('XXVIII')"
   ]
  },
  {
   "cell_type": "markdown",
   "metadata": {},
   "source": [
    "## Counting letters in numbers\n",
    "If the numbers from 1 to N are written out in words (e.g., \"one\", \"two\", \"three\", \"four\", etc.), how many letters are used in total when writing all numbers between 1 and N (inclusive)?\n",
    "While writing the words, follow these rules:\n",
    "- Do not count spaces or hyphens.\n",
    "- British usage applies (we're fancy like that): for numbers over 100, include \"and\" (e.g., \"one hundred and fifteen\")."
   ]
  },
  {
   "cell_type": "code",
   "execution_count": null,
   "metadata": {},
   "outputs": [],
   "source": [
    "number_list = ['one', 'two', 'three']"
   ]
  }
 ],
 "metadata": {
  "kernelspec": {
   "display_name": "Python 3",
   "language": "python",
   "name": "python3"
  },
  "language_info": {
   "codemirror_mode": {
    "name": "ipython",
    "version": 3
   },
   "file_extension": ".py",
   "mimetype": "text/x-python",
   "name": "python",
   "nbconvert_exporter": "python",
   "pygments_lexer": "ipython3",
   "version": "3.13.1"
  }
 },
 "nbformat": 4,
 "nbformat_minor": 2
}
